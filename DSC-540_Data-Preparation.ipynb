{
 "cells": [
  {
   "cell_type": "markdown",
   "metadata": {},
   "source": [
    "# Merging the Data and Storing in a Database/Visualizing Data\n",
    "\n",
    "Now that you have cleaned and transformed your 3 datasets, you need to merge them together and load the data into a database. You can choose what kind of database (SQLLite or MySQL, Postgre SQL are all free options).\n",
    "\n",
    "Once all the data is merged together in your database, create 5 visualizations that demonstrate the data you have cleansed. You should have at least 2 visualizations that have data from more than one source.\n",
    "\n",
    "For the visualization portion of the project, you are welcome to use a python library like Matplotlib, Seaborn, or an R package ggPlot2, Plotly, or Tableau/PowerBI.\n",
    "\n"
   ]
  },
  {
   "cell_type": "markdown",
   "metadata": {},
   "source": [
    "#### Get data from the web"
   ]
  },
  {
   "cell_type": "code",
   "execution_count": 12,
   "metadata": {},
   "outputs": [],
   "source": [
    "countries = [\"korea-south\", \"united-states\", \"india\", \"nicaragua\"]\n",
    "baseURLa = \"https://api.covid19api.com/total/country/\"\n",
    "baseURLb = \"/status/confirmed?from=2020-01-01T00:00:00Z&to=2020-05-20T00:00:00Z\""
   ]
  },
  {
   "cell_type": "markdown",
   "metadata": {},
   "source": [
    "### load libraries - use the connect function to connect to the database"
   ]
  },
  {
   "cell_type": "code",
   "execution_count": 13,
   "metadata": {},
   "outputs": [],
   "source": [
    "import requests\n",
    "import mysql.connector\n",
    "connection = mysql.connector.connect(user='root', password='123456789', host='127.0.0.1', database=\"covid_data\")\n",
    "cursor = connection.cursor(buffered=True)"
   ]
  },
  {
   "cell_type": "code",
   "execution_count": 5,
   "metadata": {},
   "outputs": [
    {
     "name": "stdout",
     "output_type": "stream",
     "text": [
      "{'Country': 'Korea (South)', 'CountryCode': '', 'Province': '', 'City': '', 'CityCode': '', 'Lat': '0', 'Lon': '0', 'Cases': 1, 'Status': 'confirmed', 'Date': '2020-01-22T00:00:00Z'}\n"
     ]
    }
   ],
   "source": [
    "korea_request = requests.get(baseURLa + countries[0] + baseURLb)\n",
    "\n",
    "korea_data = korea_request.json()\n",
    "\n",
    "print(korea_data[0])"
   ]
  },
  {
   "cell_type": "code",
   "execution_count": null,
   "metadata": {},
   "outputs": [],
   "source": [
    "for day in korea_data:\n",
    "    query = (\"INSERT INTO covid_data.new_table (country, cases, province, date) VALUES (%s, %s, %s, %s)\")\n",
    "\n",
    "    day[\"Date\"] = day[\"Date\"].split(\"T\")[0]\n",
    "  \n",
    "    cursor.execute(query, (day[\"Country\"], day[\"Cases\"], day[\"Province\"], day[\"Date\"]))\n",
    "    connection.commit()"
   ]
  },
  {
   "cell_type": "code",
   "execution_count": 6,
   "metadata": {},
   "outputs": [
    {
     "name": "stdout",
     "output_type": "stream",
     "text": [
      "{'Country': 'Nicaragua', 'CountryCode': '', 'Province': '', 'City': '', 'CityCode': '', 'Lat': '0', 'Lon': '0', 'Cases': 0, 'Status': 'confirmed', 'Date': '2020-01-22T00:00:00Z'}\n"
     ]
    }
   ],
   "source": [
    "nicaragua_request = requests.get(baseURLa + countries[3] + baseURLb)\n",
    "\n",
    "nicaragua_data = nicaragua_request.json()\n",
    "\n",
    "print(nicaragua_data[0])"
   ]
  },
  {
   "cell_type": "code",
   "execution_count": 7,
   "metadata": {},
   "outputs": [],
   "source": [
    "for day in nicaragua_data:\n",
    "    query = (\"INSERT INTO covid_data.new_table (country, cases, province, date) VALUES (%s, %s, %s, %s)\")\n",
    "    \n",
    "    day[\"Date\"] = day[\"Date\"].split(\"T\")[0]\n",
    "    cursor.execute(query, (day[\"Country\"], day[\"Cases\"], day[\"Province\"], day[\"Date\"]))\n",
    "    connection.commit()"
   ]
  },
  {
   "cell_type": "code",
   "execution_count": 35,
   "metadata": {},
   "outputs": [
    {
     "name": "stdout",
     "output_type": "stream",
     "text": [
      "{'Country': 'United States of America', 'CountryCode': '', 'Province': '', 'City': '', 'CityCode': '', 'Lat': '0', 'Lon': '0', 'Cases': 1, 'Status': 'confirmed', 'Date': '2020-01-22T00:00:00Z'}\n"
     ]
    }
   ],
   "source": [
    "us_request = requests.get(baseURLa + countries[1] + baseURLb)\n",
    "\n",
    "us_data = us_request.json()\n",
    "\n",
    "print(us_data[0])"
   ]
  },
  {
   "cell_type": "code",
   "execution_count": 36,
   "metadata": {},
   "outputs": [],
   "source": [
    "#for day in us_data:\n",
    "#    query = (\"INSERT INTO covid_data.new_table (country, cases, province, date) VALUES (%s, %s, %s, %s)\")\n",
    "#    day[\"Date\"] = day[\"Date\"].split(\"T\")[0]\n",
    "    \n",
    "#    cursor.execute(query, (day[\"Country\"], day[\"Cases\"], day[\"Province\"], day[\"Date\"]))\n",
    "#    connection.commit()"
   ]
  },
  {
   "cell_type": "code",
   "execution_count": 41,
   "metadata": {},
   "outputs": [
    {
     "name": "stdout",
     "output_type": "stream",
     "text": [
      "{'Country': 'India', 'CountryCode': '', 'Province': '', 'City': '', 'CityCode': '', 'Lat': '0', 'Lon': '0', 'Cases': 0, 'Status': 'confirmed', 'Date': '2020-01-22T00:00:00Z'}\n"
     ]
    }
   ],
   "source": [
    "india_request = requests.get(baseURLa + countries[2] + baseURLb)\n",
    "\n",
    "india_data = india_request.json()\n",
    "\n",
    "print(india_data[0])"
   ]
  },
  {
   "cell_type": "code",
   "execution_count": 45,
   "metadata": {},
   "outputs": [],
   "source": [
    "#for day in india_data:\n",
    "#    query = (\"INSERT INTO covid_data.new_table (country, cases, province, date) VALUES (%s, %s, %s, %s)\")\n",
    "#    day[\"Date\"] = day[\"Date\"].split(\"T\")[0]\n",
    "    \n",
    "#    cursor.execute(query, (day[\"Country\"], day[\"Cases\"], day[\"Province\"], day[\"Date\"]))\n",
    "#    connection.commit()"
   ]
  },
  {
   "cell_type": "code",
   "execution_count": 14,
   "metadata": {},
   "outputs": [],
   "source": [
    "import matplotlib\n",
    "import matplotlib.pyplot as plt\n",
    "import numpy as np"
   ]
  },
  {
   "cell_type": "code",
   "execution_count": 15,
   "metadata": {},
   "outputs": [
    {
     "name": "stdout",
     "output_type": "stream",
     "text": [
      "(352, 'United States of America', '', 1, datetime.date(2020, 1, 22))\n"
     ]
    }
   ],
   "source": [
    "#get all cases from the database\n",
    "US_query = (\"SELECT * FROM new_table WHERE country='United States of America'\")\n",
    "cursor.execute(US_query)\n",
    "US_results = cursor.fetchall()\n",
    "\n",
    "SK_query = (\"SELECT * FROM new_table WHERE country='Korea (South)'\")\n",
    "cursor.execute(SK_query)\n",
    "SK_results = cursor.fetchall()\n",
    "\n",
    "IN_query = (\"SELECT * FROM new_table WHERE country='India'\")\n",
    "cursor.execute(IN_query)\n",
    "IN_results = cursor.fetchall()\n",
    "\n",
    "NI_query = (\"SELECT * FROM new_table WHERE country='Nicaragua'\")\n",
    "cursor.execute(NI_query)\n",
    "NI_results = cursor.fetchall()\n",
    "\n",
    "print(US_results[0])\n",
    "\n",
    "#cursor.close();\n"
   ]
  },
  {
   "cell_type": "code",
   "execution_count": 16,
   "metadata": {},
   "outputs": [],
   "source": [
    "def getCasesFromData(dataset):\n",
    "    dates = []\n",
    "    for d in dataset:\n",
    "        #print(d)\n",
    "        dates.append(d[3])\n",
    "        \n",
    "    return dates\n",
    "        "
   ]
  },
  {
   "cell_type": "code",
   "execution_count": 17,
   "metadata": {},
   "outputs": [],
   "source": [
    "def getDatesFromData(dataset):\n",
    "    dates = []\n",
    "    for d in dataset:\n",
    "        #print(d)\n",
    "        dates.append(d[4])\n",
    "        \n",
    "    return dates"
   ]
  },
  {
   "cell_type": "code",
   "execution_count": 18,
   "metadata": {},
   "outputs": [
    {
     "name": "stdout",
     "output_type": "stream",
     "text": [
      "120 120 120\n",
      "120 120 120\n"
     ]
    }
   ],
   "source": [
    "import datetime\n",
    "from matplotlib.dates import drange\n",
    "\n",
    "US_cases = getCasesFromData(US_results)\n",
    "US_dates = getDatesFromData(US_results)\n",
    "\n",
    "SK_cases = getCasesFromData(SK_results)\n",
    "SK_dates = getDatesFromData(SK_results)\n",
    "\n",
    "IN_cases = getCasesFromData(IN_results)\n",
    "IN_dates = getDatesFromData(IN_results)\n",
    "\n",
    "NI_cases = getCasesFromData(NI_results)\n",
    "NI_dates = getDatesFromData(NI_results)\n",
    "\n",
    "print(len(US_dates), len(SK_dates), len(IN_dates))\n",
    "print(len(US_cases), len(SK_cases), len(IN_cases))"
   ]
  },
  {
   "cell_type": "code",
   "execution_count": 19,
   "metadata": {},
   "outputs": [
    {
     "data": {
      "image/png": "[encoded data removed]",
      "text/plain": [
       "<Figure size 1080x432 with 1 Axes>"
      ]
     },
     "metadata": {
      "needs_background": "light"
     },
     "output_type": "display_data"
    }
   ],
   "source": [
    "# Data for plotting\n",
    "\n",
    "plt.subplots(figsize=(15,6))\n",
    "plt.grid()\n",
    "plt.plot(US_dates, US_cases, label=\"United States\")\n",
    "plt.plot(IN_dates, IN_cases, label=\"India\")\n",
    "plt.plot(US_dates, SK_cases, label=\"South Korea\")\n",
    "plt.plot(NI_dates, NI_cases, label=\"Nicaragua\")\n",
    "\n",
    "plt.legend()\n",
    "\n",
    "plt.show()"
   ]
  },
  {
   "cell_type": "code",
   "execution_count": 37,
   "metadata": {},
   "outputs": [],
   "source": [
    "#connection.close()"
   ]
  }
 ],
 "metadata": {
  "kernelspec": {
   "display_name": "Python 3",
   "language": "python",
   "name": "python3"
  },
  "language_info": {
   "codemirror_mode": {
    "name": "ipython",
    "version": 3
   },
   "file_extension": ".py",
   "mimetype": "text/x-python",
   "name": "python",
   "nbconvert_exporter": "python",
   "pygments_lexer": "ipython3",
   "version": "3.8.3"
  }
 },
 "nbformat": 4,
 "nbformat_minor": 2
}
